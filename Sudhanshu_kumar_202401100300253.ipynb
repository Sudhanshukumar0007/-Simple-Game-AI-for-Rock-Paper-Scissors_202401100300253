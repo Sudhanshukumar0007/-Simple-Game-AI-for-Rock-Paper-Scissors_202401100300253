{
  "nbformat": 4,
  "nbformat_minor": 0,
  "metadata": {
    "colab": {
      "provenance": []
    },
    "kernelspec": {
      "name": "python3",
      "display_name": "Python 3"
    },
    "language_info": {
      "name": "python"
    }
  },
  "cells": [
    {
      "cell_type": "code",
      "execution_count": 5,
      "metadata": {
        "colab": {
          "base_uri": "https://localhost:8080/"
        },
        "id": "hVBqx-cBiJq7",
        "outputId": "8699717b-504d-4127-8f1f-3a9ec0342c7a"
      },
      "outputs": [
        {
          "output_type": "stream",
          "name": "stdout",
          "text": [
            "Rock-Paper-Scissors Game!\n",
            "Enter rock, paper, or scissors: Rock\n",
            "Computer chose: rock\n",
            "It's a tie!\n"
          ]
        }
      ],
      "source": [
        "import random  # Importing the random module for AI's choice\n",
        "\n",
        "def get_computer_choice():\n",
        "    \"\"\"\n",
        "    Function to randomly select a choice for the computer (AI).\n",
        "    Returns:\n",
        "        str: One of \"rock\", \"paper\", or \"scissors\".\n",
        "    \"\"\"\n",
        "    return random.choice([\"rock\", \"paper\", \"scissors\"])\n",
        "\n",
        "def get_winner(player, computer):\n",
        "    \"\"\"\n",
        "    Function to determine the winner of the game.\n",
        "    Args:\n",
        "        player (str): The player's choice.\n",
        "        computer (str): The computer's choice.\n",
        "    Returns:\n",
        "        str: A message indicating the result (win, lose, or tie).\n",
        "    \"\"\"\n",
        "    if player == computer:\n",
        "        return \"It's a tie!\"  # Both choices are the same\n",
        "    elif (player == \"rock\" and computer == \"scissors\") or \\\n",
        "         (player == \"scissors\" and computer == \"paper\") or \\\n",
        "         (player == \"paper\" and computer == \"rock\"):\n",
        "        return \"You win!\"  # Player wins based on game rules\n",
        "    else:\n",
        "        return \"Computer wins!\"  # Computer wins\n",
        "\n",
        "def play_game():\n",
        "    \"\"\"\n",
        "    Function to run the Rock-Paper-Scissors game.\n",
        "    It asks the user for input, generates a computer choice, and displays the result.\n",
        "    \"\"\"\n",
        "    print(\"Rock-Paper-Scissors Game!\")  # Game introduction\n",
        "\n",
        "    # Taking user input and converting it to lowercase for case insensitivity\n",
        "    player_choice = input(\"Enter rock, paper, or scissors: \").lower()\n",
        "\n",
        "    # Validating user input\n",
        "    if player_choice not in [\"rock\", \"paper\", \"scissors\"]:\n",
        "        print(\"Invalid choice! Please enter 'rock', 'paper', or 'scissors'.\")\n",
        "        return  # Exit the function if input is invalid\n",
        "\n",
        "    # Get computer's choice\n",
        "    computer_choice = get_computer_choice()\n",
        "    print(f\"Computer chose: {computer_choice}\")  # Display computer's choice\n",
        "\n",
        "    # Determine and print the winner\n",
        "    result = get_winner(player_choice, computer_choice)\n",
        "    print(result)\n",
        "\n",
        "# Run the game\n",
        "play_game()\n"
      ]
    }
  ]
}